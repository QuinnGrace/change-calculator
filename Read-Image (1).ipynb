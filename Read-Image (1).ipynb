{
 "cells": [
  {
   "cell_type": "markdown",
   "metadata": {},
   "source": [
    "#### Open the file"
   ]
  },
  {
   "cell_type": "code",
   "execution_count": 1,
   "metadata": {},
   "outputs": [
    {
     "data": {
      "text/plain": [
       "-1"
      ]
     },
     "execution_count": 1,
     "metadata": {},
     "output_type": "execute_result"
    }
   ],
   "source": [
    "import cv2 as cv\n",
    "import numpy as np\n",
    "\n",
    "img = cv.imread('C:/Users/quinn/Project-Change/Coins/all_coins5.jpg')\n",
    "cv.imshow('all_coins5', img)\n",
    "\n",
    "cv.waitKey(0)"
   ]
  },
  {
   "cell_type": "markdown",
   "metadata": {},
   "source": [
    "#### Resize the file to 10% of its original size (0.1)"
   ]
  },
  {
   "cell_type": "code",
   "execution_count": 2,
   "metadata": {},
   "outputs": [
    {
     "name": "stdout",
     "output_type": "stream",
     "text": [
      "Original Dimensions :  (4224, 5632, 3)\n"
     ]
    },
    {
     "data": {
      "text/plain": [
       "-1"
      ]
     },
     "execution_count": 2,
     "metadata": {},
     "output_type": "execute_result"
    }
   ],
   "source": [
    "print('Original Dimensions : ',img.shape)\n",
    "\n",
    "\n",
    "width = int(img.shape[1] * 0.1)\n",
    "height = int(img.shape[0] * 0.1)\n",
    "dim = (width, height)\n",
    "\n",
    "resized = cv.resize(img, dim, interpolation = cv.INTER_AREA)\n",
    "\n",
    "cv.imshow('Coins', resized)\n",
    "\n",
    "cv.waitKey(0)"
   ]
  },
  {
   "cell_type": "code",
   "execution_count": 3,
   "metadata": {},
   "outputs": [],
   "source": [
    "#blank for drawing found contours\n",
    "blank = np.zeros(resized.shape, dtype = \"uint8\")\n",
    "cv.imshow(\"Blank\", blank)\n",
    "\n",
    "#blank for drawing found contours\n",
    "blank2 = np.zeros(resized.shape, dtype = \"uint8\")\n",
    "cv.imshow(\"Blank 2\", blank2)"
   ]
  },
  {
   "cell_type": "markdown",
   "metadata": {},
   "source": [
    "#### Add blur and find edges"
   ]
  },
  {
   "cell_type": "code",
   "execution_count": 4,
   "metadata": {},
   "outputs": [
    {
     "data": {
      "text/plain": [
       "-1"
      ]
     },
     "execution_count": 4,
     "metadata": {},
     "output_type": "execute_result"
    }
   ],
   "source": [
    "blur = cv.GaussianBlur(resized, (3,3), cv.BORDER_DEFAULT)\n",
    "cv.imshow('Blur Coins', blur)\n",
    "\n",
    "canny = cv.Canny(blur, 15, 75)\n",
    "cannyResized = cv.Canny(resized, 15, 100)\n",
    "\n",
    "cv.imshow('Canny Coins', canny)\n",
    "cv.imshow('no blur', cannyResized)\n",
    "\n",
    "cv.waitKey(0)"
   ]
  },
  {
   "cell_type": "markdown",
   "metadata": {},
   "source": [
    "#### Dilate"
   ]
  },
  {
   "cell_type": "markdown",
   "metadata": {},
   "source": [
    "dilated = cv.dilate(canny, (3,3), iterations = 1)\n",
    "dilatedNoBlur = cv.dilate(cannyResized, (3,3), iterations = 1)\n",
    "cv.imshow(\"with dilation\", dilated)\n",
    "cv.imshow(\"with dilation 2\", dilatedNoBlur)\n",
    "\n",
    "cv.waitKey(0)"
   ]
  },
  {
   "cell_type": "code",
   "execution_count": 5,
   "metadata": {},
   "outputs": [
    {
     "name": "stdout",
     "output_type": "stream",
     "text": [
      "641 contour(s) found.\n",
      "1218 contour(s) found.\n"
     ]
    },
    {
     "data": {
      "text/plain": [
       "-1"
      ]
     },
     "execution_count": 5,
     "metadata": {},
     "output_type": "execute_result"
    }
   ],
   "source": [
    "contours, hierarchies = cv.findContours(canny, cv.RETR_LIST, cv.CHAIN_APPROX_NONE)\n",
    "print(f\"{len(contours)} contour(s) found.\")\n",
    "\n",
    "cv.drawContours(blank, contours, -1, (0,0,255), 1)\n",
    "cv.imshow(\"Contours drawn\", blank)\n",
    "\n",
    "contours, hierarchies = cv.findContours(cannyResized, cv.RETR_LIST, cv.CHAIN_APPROX_NONE)\n",
    "print(f\"{len(contours)} contour(s) found.\")\n",
    "\n",
    "cv.drawContours(blank2, contours, -1, (0,0,255), 1)\n",
    "cv.imshow(\"Contours drawn 2\", blank2)\n",
    "cv.waitKey(0)"
   ]
  }
 ],
 "metadata": {
  "kernelspec": {
   "display_name": "Python 3",
   "language": "python",
   "name": "python3"
  },
  "language_info": {
   "codemirror_mode": {
    "name": "ipython",
    "version": 3
   },
   "file_extension": ".py",
   "mimetype": "text/x-python",
   "name": "python",
   "nbconvert_exporter": "python",
   "pygments_lexer": "ipython3",
   "version": "3.8.5"
  }
 },
 "nbformat": 4,
 "nbformat_minor": 4
}
